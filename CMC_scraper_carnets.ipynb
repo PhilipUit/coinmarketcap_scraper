{
 "cells": [
  {
   "cell_type": "code",
   "execution_count": 1,
   "metadata": {},
   "outputs": [],
   "source": [
    "#packages\n",
    "import requests\n",
    "import pandas as pd\n",
    "from bs4 import BeautifulSoup as bs"
   ]
  },
  {
   "cell_type": "markdown",
   "metadata": {},
   "source": [
    "### HOLO"
   ]
  },
  {
   "cell_type": "code",
   "execution_count": 2,
   "metadata": {},
   "outputs": [
    {
     "name": "stdout",
     "output_type": "stream",
     "text": [
      "$0.002084\n",
      "None\n",
      "None\n",
      "None\n",
      "0.0517\n",
      "None\n",
      "#103\n"
     ]
    }
   ],
   "source": [
    "request = requests.get('http://coinmarketcap.com/currencies/holo/')\n",
    "\n",
    "content = request.content\n",
    "\n",
    "soup = bs(content, 'html.parser')  \n",
    "\n",
    "table = soup.findChildren('table')[0]\n",
    "\n",
    "rows = table.findChildren('tr')\n",
    "\n",
    "for row in rows:\n",
    "    cells = row.findChildren('td')\n",
    "    for cell in cells:\n",
    "        print (cell.string)"
   ]
  },
  {
   "cell_type": "markdown",
   "metadata": {},
   "source": [
    "# SHIB"
   ]
  },
  {
   "cell_type": "code",
   "execution_count": 3,
   "metadata": {},
   "outputs": [
    {
     "name": "stdout",
     "output_type": "stream",
     "text": [
      "$0.00001158\n",
      "None\n",
      "None\n",
      "None\n",
      "0.03745\n",
      "None\n",
      "#14\n"
     ]
    }
   ],
   "source": [
    "request = requests.get('http://coinmarketcap.com/currencies/shiba-inu/')\n",
    "\n",
    "content = request.content\n",
    "\n",
    "soup = bs(content, 'html.parser')  \n",
    "\n",
    "table = soup.findChildren('table')[0]\n",
    "\n",
    "rows = table.findChildren('tr')\n",
    "\n",
    "for row in rows:\n",
    "    cells = row.findChildren('td')\n",
    "    for cell in cells:\n",
    "        print (cell.string)"
   ]
  },
  {
   "cell_type": "markdown",
   "metadata": {},
   "source": [
    "# HNT"
   ]
  },
  {
   "cell_type": "code",
   "execution_count": 4,
   "metadata": {},
   "outputs": [
    {
     "name": "stdout",
     "output_type": "stream",
     "text": [
      "$2.64\n",
      "None\n",
      "None\n",
      "None\n",
      "0.008041\n",
      "None\n",
      "#101\n"
     ]
    }
   ],
   "source": [
    "request = requests.get('http://coinmarketcap.com/currencies/helium/')\n",
    "\n",
    "content = request.content\n",
    "\n",
    "soup = bs(content, 'html.parser')  \n",
    "\n",
    "table = soup.findChildren('table')[0]\n",
    "\n",
    "rows = table.findChildren('tr')\n",
    "\n",
    "for row in rows:\n",
    "    cells = row.findChildren('td')\n",
    "    for cell in cells:\n",
    "        print (cell.string)"
   ]
  },
  {
   "cell_type": "code",
   "execution_count": null,
   "metadata": {},
   "outputs": [],
   "source": []
  },
  {
   "cell_type": "code",
   "execution_count": null,
   "metadata": {},
   "outputs": [],
   "source": []
  }
 ],
 "metadata": {
  "kernelspec": {
   "display_name": "Python 3",
   "language": "python",
   "name": "python3"
  },
  "language_info": {
   "codemirror_mode": {
    "name": "ipython",
    "version": 3
   },
   "file_extension": ".py",
   "mimetype": "text/x-python",
   "name": "python",
   "nbconvert_exporter": "python",
   "pygments_lexer": "ipython3",
   "version": "3.7.6"
  }
 },
 "nbformat": 4,
 "nbformat_minor": 4
}
