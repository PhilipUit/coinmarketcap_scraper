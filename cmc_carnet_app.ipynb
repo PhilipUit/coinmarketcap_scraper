{
 "cells": [
  {
   "cell_type": "code",
   "execution_count": null,
   "metadata": {},
   "outputs": [],
   "source": []
  },
  {
   "cell_type": "code",
   "execution_count": 1,
   "metadata": {},
   "outputs": [],
   "source": [
    "#packages\n",
    "import requests\n",
    "import pandas as pd\n",
    "from bs4 import BeautifulSoup as bs"
   ]
  },
  {
   "cell_type": "markdown",
   "metadata": {},
   "source": [
    "## HOLO"
   ]
  },
  {
   "cell_type": "code",
   "execution_count": 2,
   "metadata": {},
   "outputs": [
    {
     "name": "stdout",
     "output_type": "stream",
     "text": [
      "$0.002062\n",
      "None\n",
      "None\n",
      "None\n",
      "0.05649\n",
      "None\n",
      "#104\n"
     ]
    }
   ],
   "source": [
    "request = requests.get('http://coinmarketcap.com/currencies/holo/')\n",
    "content = request.content\n",
    "soup = bs(content, 'html.parser')  \n",
    "table = soup.findChildren('table')[0]\n",
    "rows = table.findChildren('tr')\n",
    "for row in rows:\n",
    "    cells = row.findChildren('td')\n",
    "    for cell in cells:\n",
    "        print (cell.string)"
   ]
  },
  {
   "cell_type": "markdown",
   "metadata": {},
   "source": [
    "## SHIB"
   ]
  },
  {
   "cell_type": "code",
   "execution_count": 3,
   "metadata": {},
   "outputs": [
    {
     "name": "stdout",
     "output_type": "stream",
     "text": [
      "$0.00001234\n",
      "None\n",
      "None\n",
      "None\n",
      "0.06719\n",
      "None\n",
      "#13\n"
     ]
    }
   ],
   "source": [
    "request = requests.get('http://coinmarketcap.com/currencies/shiba-inu/')\n",
    "content = request.content\n",
    "soup = bs(content, 'html.parser')  \n",
    "table = soup.findChildren('table')[0]\n",
    "rows = table.findChildren('tr')\n",
    "for row in rows:\n",
    "    cells = row.findChildren('td')\n",
    "    for cell in cells:\n",
    "        print (cell.string)"
   ]
  },
  {
   "cell_type": "markdown",
   "metadata": {},
   "source": [
    "## BTC"
   ]
  },
  {
   "cell_type": "code",
   "execution_count": 5,
   "metadata": {},
   "outputs": [
    {
     "name": "stdout",
     "output_type": "stream",
     "text": [
      "$22,023.00\n",
      "None\n",
      "None\n",
      "None\n",
      "0.07179\n",
      "None\n",
      "#1\n"
     ]
    }
   ],
   "source": [
    "request = requests.get('http://coinmarketcap.com/currencies/bitcoin/')\n",
    "content = request.content\n",
    "soup = bs(content, 'html.parser')  \n",
    "table = soup.findChildren('table')[0]\n",
    "rows = table.findChildren('tr')\n",
    "for row in rows:\n",
    "    cells = row.findChildren('td')\n",
    "    for cell in cells:\n",
    "        print (cell.string)"
   ]
  },
  {
   "cell_type": "markdown",
   "metadata": {},
   "source": [
    "## ETH"
   ]
  },
  {
   "cell_type": "code",
   "execution_count": 6,
   "metadata": {},
   "outputs": [
    {
     "name": "stdout",
     "output_type": "stream",
     "text": [
      "$1,577.92\n",
      "None\n",
      "None\n",
      "None\n",
      "0.0465\n",
      "None\n",
      "#2\n"
     ]
    }
   ],
   "source": [
    "request = requests.get('http://coinmarketcap.com/currencies/ethereum/')\n",
    "content = request.content\n",
    "soup = bs(content, 'html.parser')  \n",
    "table = soup.findChildren('table')[0]\n",
    "rows = table.findChildren('tr')\n",
    "for row in rows:\n",
    "    cells = row.findChildren('td')\n",
    "    for cell in cells:\n",
    "        print (cell.string)"
   ]
  },
  {
   "cell_type": "markdown",
   "metadata": {},
   "source": [
    "## HNT"
   ]
  },
  {
   "cell_type": "code",
   "execution_count": 12,
   "metadata": {},
   "outputs": [
    {
     "name": "stdout",
     "output_type": "stream",
     "text": [
      "$2.67\n",
      "None\n",
      "None\n",
      "None\n",
      "0.01645\n",
      "None\n",
      "#99\n"
     ]
    }
   ],
   "source": [
    "request = requests.get('http://coinmarketcap.com/currencies/helium/')\n",
    "content = request.content\n",
    "soup = bs(content, 'html.parser')  \n",
    "table = soup.findChildren('table')[0]\n",
    "rows = table.findChildren('tr')\n",
    "for row in rows:\n",
    "    cells = row.findChildren('td')\n",
    "    for cell in cells:\n",
    "        print (cell.string)"
   ]
  },
  {
   "cell_type": "markdown",
   "metadata": {},
   "source": [
    "## XRP"
   ]
  },
  {
   "cell_type": "code",
   "execution_count": 8,
   "metadata": {},
   "outputs": [
    {
     "name": "stdout",
     "output_type": "stream",
     "text": [
      "$0.3882\n",
      "None\n",
      "None\n",
      "None\n",
      "0.06724\n",
      "None\n",
      "#6\n"
     ]
    }
   ],
   "source": [
    "request = requests.get('http://coinmarketcap.com/currencies/ripple/')\n",
    "content = request.content\n",
    "soup = bs(content, 'html.parser')  \n",
    "table = soup.findChildren('table')[0]\n",
    "rows = table.findChildren('tr')\n",
    "for row in rows:\n",
    "    cells = row.findChildren('td')\n",
    "    for cell in cells:\n",
    "        print (cell.string)"
   ]
  },
  {
   "cell_type": "markdown",
   "metadata": {},
   "source": [
    "## LTC"
   ]
  },
  {
   "cell_type": "code",
   "execution_count": 9,
   "metadata": {},
   "outputs": [
    {
     "name": "stdout",
     "output_type": "stream",
     "text": [
      "$91.98\n",
      "None\n",
      "None\n",
      "None\n",
      "0.1105\n",
      "None\n",
      "#14\n"
     ]
    }
   ],
   "source": [
    "request = requests.get('http://coinmarketcap.com/currencies/litecoin/')\n",
    "content = request.content\n",
    "soup = bs(content, 'html.parser')  \n",
    "table = soup.findChildren('table')[0]\n",
    "rows = table.findChildren('tr')\n",
    "for row in rows:\n",
    "    cells = row.findChildren('td')\n",
    "    for cell in cells:\n",
    "        print (cell.string)"
   ]
  },
  {
   "cell_type": "markdown",
   "metadata": {},
   "source": [
    "## XLM"
   ]
  },
  {
   "cell_type": "code",
   "execution_count": 10,
   "metadata": {},
   "outputs": [
    {
     "name": "stdout",
     "output_type": "stream",
     "text": [
      "$0.08713\n",
      "None\n",
      "None\n",
      "None\n",
      "0.03487\n",
      "None\n",
      "#28\n"
     ]
    }
   ],
   "source": [
    "request = requests.get('http://coinmarketcap.com/currencies/stellar/')\n",
    "content = request.content\n",
    "soup = bs(content, 'html.parser')  \n",
    "table = soup.findChildren('table')[0]\n",
    "rows = table.findChildren('tr')\n",
    "for row in rows:\n",
    "    cells = row.findChildren('td')\n",
    "    for cell in cells:\n",
    "        print (cell.string)"
   ]
  },
  {
   "cell_type": "markdown",
   "metadata": {},
   "source": [
    "## VET"
   ]
  },
  {
   "cell_type": "code",
   "execution_count": 11,
   "metadata": {},
   "outputs": [
    {
     "name": "stdout",
     "output_type": "stream",
     "text": [
      "$0.02394\n",
      "None\n",
      "None\n",
      "None\n",
      "0.04953\n",
      "None\n",
      "#37\n"
     ]
    }
   ],
   "source": [
    "request = requests.get('http://coinmarketcap.com/currencies/vechain/')\n",
    "content = request.content\n",
    "soup = bs(content, 'html.parser')  \n",
    "table = soup.findChildren('table')[0]\n",
    "rows = table.findChildren('tr')\n",
    "for row in rows:\n",
    "    cells = row.findChildren('td')\n",
    "    for cell in cells:\n",
    "        print (cell.string)"
   ]
  },
  {
   "cell_type": "markdown",
   "metadata": {},
   "source": [
    "## MNW"
   ]
  },
  {
   "cell_type": "code",
   "execution_count": 13,
   "metadata": {},
   "outputs": [
    {
     "name": "stdout",
     "output_type": "stream",
     "text": [
      "$1.87\n",
      "None\n",
      "None\n",
      "None\n",
      "0.01533\n",
      "No Data\n",
      "#285\n"
     ]
    }
   ],
   "source": [
    "request = requests.get('http://coinmarketcap.com/currencies/morpheus-network/')\n",
    "content = request.content\n",
    "soup = bs(content, 'html.parser')  \n",
    "table = soup.findChildren('table')[0]\n",
    "rows = table.findChildren('tr')\n",
    "for row in rows:\n",
    "    cells = row.findChildren('td')\n",
    "    for cell in cells:\n",
    "        print (cell.string)"
   ]
  },
  {
   "cell_type": "markdown",
   "metadata": {},
   "source": [
    "## LEASH"
   ]
  },
  {
   "cell_type": "code",
   "execution_count": 15,
   "metadata": {},
   "outputs": [
    {
     "name": "stdout",
     "output_type": "stream",
     "text": [
      "$438.98\n",
      "None\n",
      "None\n",
      "None\n",
      "Infinity\n",
      "None\n",
      "#2870\n"
     ]
    }
   ],
   "source": [
    "request = requests.get('http://coinmarketcap.com/currencies/doge-killer/')\n",
    "content = request.content\n",
    "soup = bs(content, 'html.parser')  \n",
    "table = soup.findChildren('table')[0]\n",
    "rows = table.findChildren('tr')\n",
    "for row in rows:\n",
    "    cells = row.findChildren('td')\n",
    "    for cell in cells:\n",
    "        print (cell.string)"
   ]
  },
  {
   "cell_type": "markdown",
   "metadata": {},
   "source": [
    "## AKITA"
   ]
  },
  {
   "cell_type": "code",
   "execution_count": 17,
   "metadata": {},
   "outputs": [
    {
     "name": "stdout",
     "output_type": "stream",
     "text": [
      "$0.0000002027\n",
      "None\n",
      "None\n",
      "None\n",
      "Infinity\n",
      "None\n",
      "#2760\n"
     ]
    }
   ],
   "source": [
    "request = requests.get('http://coinmarketcap.com/currencies/akita-inu/')\n",
    "content = request.content\n",
    "soup = bs(content, 'html.parser')  \n",
    "table = soup.findChildren('table')[0]\n",
    "rows = table.findChildren('tr')\n",
    "for row in rows:\n",
    "    cells = row.findChildren('td')\n",
    "    for cell in cells:\n",
    "        print (cell.string)"
   ]
  },
  {
   "cell_type": "markdown",
   "metadata": {},
   "source": [
    "## SANSHU"
   ]
  },
  {
   "cell_type": "code",
   "execution_count": 22,
   "metadata": {},
   "outputs": [
    {
     "name": "stdout",
     "output_type": "stream",
     "text": [
      "$0.00000000004\n",
      "None\n",
      "None\n",
      "None\n",
      "Infinity\n",
      "None\n",
      "#2958\n"
     ]
    }
   ],
   "source": [
    "request = requests.get('http://coinmarketcap.com/currencies/sanshu-inu/')\n",
    "content = request.content\n",
    "soup = bs(content, 'html.parser')  \n",
    "table = soup.findChildren('table')[0]\n",
    "rows = table.findChildren('tr')\n",
    "for row in rows:\n",
    "    cells = row.findChildren('td')\n",
    "    for cell in cells:\n",
    "        print (cell.string)"
   ]
  },
  {
   "cell_type": "markdown",
   "metadata": {},
   "source": [
    "## ETC"
   ]
  },
  {
   "cell_type": "code",
   "execution_count": 18,
   "metadata": {},
   "outputs": [
    {
     "name": "stdout",
     "output_type": "stream",
     "text": [
      "$21.34\n",
      "None\n",
      "None\n",
      "None\n",
      "0.09267\n",
      "None\n",
      "#23\n"
     ]
    }
   ],
   "source": [
    "request = requests.get('http://coinmarketcap.com/currencies/ethereum-classic/')\n",
    "content = request.content\n",
    "soup = bs(content, 'html.parser')  \n",
    "table = soup.findChildren('table')[0]\n",
    "rows = table.findChildren('tr')\n",
    "for row in rows:\n",
    "    cells = row.findChildren('td')\n",
    "    for cell in cells:\n",
    "        print (cell.string)"
   ]
  },
  {
   "cell_type": "markdown",
   "metadata": {},
   "source": [
    "## IOST"
   ]
  },
  {
   "cell_type": "code",
   "execution_count": 20,
   "metadata": {},
   "outputs": [
    {
     "name": "stdout",
     "output_type": "stream",
     "text": [
      "$0.0105\n",
      "None\n",
      "None\n",
      "None\n",
      "0.1195\n",
      "None\n",
      "#156\n"
     ]
    }
   ],
   "source": [
    "request = requests.get('http://coinmarketcap.com/currencies/iostoken/')\n",
    "content = request.content\n",
    "soup = bs(content, 'html.parser')  \n",
    "table = soup.findChildren('table')[0]\n",
    "rows = table.findChildren('tr')\n",
    "for row in rows:\n",
    "    cells = row.findChildren('td')\n",
    "    for cell in cells:\n",
    "        print (cell.string)"
   ]
  },
  {
   "cell_type": "code",
   "execution_count": null,
   "metadata": {},
   "outputs": [],
   "source": []
  },
  {
   "cell_type": "code",
   "execution_count": null,
   "metadata": {},
   "outputs": [],
   "source": []
  }
 ],
 "metadata": {
  "kernelspec": {
   "display_name": "Python 3",
   "language": "python",
   "name": "python3"
  },
  "language_info": {
   "codemirror_mode": {
    "name": "ipython",
    "version": 3
   },
   "file_extension": ".py",
   "mimetype": "text/x-python",
   "name": "python",
   "nbconvert_exporter": "python",
   "pygments_lexer": "ipython3",
   "version": "3.7.6"
  }
 },
 "nbformat": 4,
 "nbformat_minor": 4
}
