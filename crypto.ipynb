{
 "cells": [
  {
   "cell_type": "code",
   "execution_count": null,
   "metadata": {},
   "outputs": [],
   "source": []
  },
  {
   "cell_type": "code",
   "execution_count": null,
   "metadata": {},
   "outputs": [],
   "source": []
  },
  {
   "cell_type": "code",
   "execution_count": null,
   "metadata": {},
   "outputs": [],
   "source": []
  },
  {
   "cell_type": "code",
   "execution_count": 1,
   "metadata": {},
   "outputs": [],
   "source": [
    "import requests \n",
    "from bs4 import BeautifulSoup as bs"
   ]
  },
  {
   "cell_type": "code",
   "execution_count": 2,
   "metadata": {},
   "outputs": [],
   "source": [
    "import pandas as pd\n"
   ]
  },
  {
   "cell_type": "markdown",
   "metadata": {},
   "source": [
    "import requests \n",
    "from bs4 import BeautifulSoup as bs\n",
    "\n",
    "request = requests.get('http://coinmarketcap.com/')\n",
    "\n",
    "content = request.content\n",
    "\n",
    "soup = bs(content, 'html.parser')  \n",
    "\n",
    "table = soup.findChildren('table')[0]\n",
    "\n",
    "rows = table.findChildren('tr')\n",
    "\n",
    "for row in rows:\n",
    "    cells = row.findChildren('td')\n",
    "    for cell in cells:\n",
    "        print (cell.string)"
   ]
  },
  {
   "cell_type": "markdown",
   "metadata": {},
   "source": [
    "## HOLO"
   ]
  },
  {
   "cell_type": "code",
   "execution_count": 3,
   "metadata": {},
   "outputs": [
    {
     "name": "stdout",
     "output_type": "stream",
     "text": [
      "$0.009393\n",
      "None\n",
      "None\n",
      "None\n",
      "0.1296\n",
      "None\n",
      "#69\n"
     ]
    }
   ],
   "source": [
    "\n",
    "\n",
    "request = requests.get('http://coinmarketcap.com/currencies/holo/')\n",
    "\n",
    "content = request.content\n",
    "\n",
    "soup = bs(content, 'html.parser')  \n",
    "\n",
    "table = soup.findChildren('table')[0]\n",
    "\n",
    "rows = table.findChildren('tr')\n",
    "\n",
    "for row in rows:\n",
    "    cells = row.findChildren('td')\n",
    "    for cell in cells:\n",
    "        print (cell.string)"
   ]
  },
  {
   "cell_type": "code",
   "execution_count": null,
   "metadata": {},
   "outputs": [],
   "source": []
  },
  {
   "cell_type": "markdown",
   "metadata": {},
   "source": [
    "## Bitcoin"
   ]
  },
  {
   "cell_type": "code",
   "execution_count": 4,
   "metadata": {},
   "outputs": [
    {
     "name": "stdout",
     "output_type": "stream",
     "text": [
      "$54,098.48\n",
      "None\n",
      "None\n",
      "None\n",
      "0.03774\n",
      "None\n",
      "#1\n"
     ]
    }
   ],
   "source": [
    "\n",
    "\n",
    "request = requests.get('http://coinmarketcap.com/currencies/bitcoin/')\n",
    "\n",
    "content = request.content\n",
    "\n",
    "soup = bs(content, 'html.parser')  \n",
    "\n",
    "table = soup.findChildren('table')[0]\n",
    "\n",
    "rows = table.findChildren('tr')\n",
    "\n",
    "for row in rows:\n",
    "    cells = row.findChildren('td')\n",
    "    for cell in cells:\n",
    "        print (cell.string)"
   ]
  },
  {
   "cell_type": "code",
   "execution_count": null,
   "metadata": {},
   "outputs": [],
   "source": []
  },
  {
   "cell_type": "markdown",
   "metadata": {},
   "source": [
    "## XRP"
   ]
  },
  {
   "cell_type": "code",
   "execution_count": 5,
   "metadata": {},
   "outputs": [
    {
     "name": "stdout",
     "output_type": "stream",
     "text": [
      "$1.07\n",
      "None\n",
      "None\n",
      "None\n",
      "0.0653\n",
      "None\n",
      "#6\n"
     ]
    }
   ],
   "source": [
    "\n",
    "request = requests.get('http://coinmarketcap.com/currencies/xrp/')\n",
    "\n",
    "content = request.content\n",
    "\n",
    "soup = bs(content, 'html.parser')  \n",
    "\n",
    "table = soup.findChildren('table')[0]\n",
    "\n",
    "rows = table.findChildren('tr')\n",
    "\n",
    "for row in rows:\n",
    "    cells = row.findChildren('td')\n",
    "    for cell in cells:\n",
    "        print (cell.string)"
   ]
  },
  {
   "cell_type": "code",
   "execution_count": null,
   "metadata": {},
   "outputs": [],
   "source": []
  },
  {
   "cell_type": "markdown",
   "metadata": {},
   "source": [
    "## VeChain"
   ]
  },
  {
   "cell_type": "code",
   "execution_count": null,
   "metadata": {},
   "outputs": [],
   "source": []
  },
  {
   "cell_type": "code",
   "execution_count": null,
   "metadata": {},
   "outputs": [],
   "source": []
  },
  {
   "cell_type": "code",
   "execution_count": null,
   "metadata": {},
   "outputs": [],
   "source": []
  },
  {
   "cell_type": "code",
   "execution_count": null,
   "metadata": {},
   "outputs": [],
   "source": []
  },
  {
   "cell_type": "code",
   "execution_count": null,
   "metadata": {},
   "outputs": [],
   "source": []
  },
  {
   "cell_type": "markdown",
   "metadata": {},
   "source": [
    "## NEO"
   ]
  },
  {
   "cell_type": "code",
   "execution_count": null,
   "metadata": {},
   "outputs": [],
   "source": []
  },
  {
   "cell_type": "code",
   "execution_count": null,
   "metadata": {},
   "outputs": [],
   "source": []
  },
  {
   "cell_type": "code",
   "execution_count": null,
   "metadata": {},
   "outputs": [],
   "source": []
  },
  {
   "cell_type": "code",
   "execution_count": 6,
   "metadata": {},
   "outputs": [
    {
     "name": "stdout",
     "output_type": "stream",
     "text": [
      "$45.97\n",
      "None\n",
      "None\n",
      "None\n",
      "0.09057\n",
      "None\n",
      "#50\n"
     ]
    }
   ],
   "source": [
    "\n",
    "request = requests.get('http://coinmarketcap.com/currencies/neo/')\n",
    "\n",
    "content = request.content\n",
    "\n",
    "soup = bs(content, 'html.parser')  \n",
    "\n",
    "table = soup.findChildren('table')[0]\n",
    "\n",
    "rows = table.findChildren('tr')\n",
    "\n",
    "for row in rows:\n",
    "    cells = row.findChildren('td')\n",
    "    for cell in cells:\n",
    "        print (cell.string)"
   ]
  },
  {
   "cell_type": "code",
   "execution_count": null,
   "metadata": {},
   "outputs": [],
   "source": []
  },
  {
   "cell_type": "code",
   "execution_count": null,
   "metadata": {},
   "outputs": [],
   "source": []
  },
  {
   "cell_type": "code",
   "execution_count": null,
   "metadata": {},
   "outputs": [],
   "source": []
  },
  {
   "cell_type": "code",
   "execution_count": 7,
   "metadata": {},
   "outputs": [],
   "source": [
    "import requests\n",
    "import pandas as pd\n",
    "import io"
   ]
  },
  {
   "cell_type": "code",
   "execution_count": null,
   "metadata": {},
   "outputs": [],
   "source": []
  },
  {
   "cell_type": "markdown",
   "metadata": {},
   "source": [
    "## holo"
   ]
  },
  {
   "cell_type": "code",
   "execution_count": 8,
   "metadata": {},
   "outputs": [
    {
     "data": {
      "text/plain": [
       "[                     0                      1\n",
       " 0           Holo Price              $0.009393\n",
       " 1      Price Change24h       $-0.00038123.90%\n",
       " 2   24h Low / 24h High   $0.009362 /$0.009847\n",
       " 3    Trading Volume24h  $210,507,930.1349.23%\n",
       " 4  Volume / Market Cap                 0.1296\n",
       " 5     Market Dominance                  0.07%\n",
       " 6          Market Rank                    #69,\n",
       "                           0                       1\n",
       " 0                Market Cap  $1,623,990,183.743.90%\n",
       " 1  Fully Diluted Market Cap  $1,668,358,045.643.90%,\n",
       "                           0                     1\n",
       " 0    Yesterday's Low / High   $0.009193 /$0.01014\n",
       " 1  Yesterday's Open / Close  $0.009851 /$0.009681\n",
       " 2        Yesterday's Change                 1.73%\n",
       " 3        Yesterday's Volume       $289,945,467.86,\n",
       "                                           0                     1\n",
       " 0                          7d Low / 7d High   $0.007835 /$0.01051\n",
       " 1                        30d Low / 30d High   $0.007403 /$0.01065\n",
       " 2                        90d Low / 90d High   $0.004334 /$0.01332\n",
       " 3                52 Week Low / 52 Week High  $0.0004296 /$0.03157\n",
       " 4  All Time HighApr 05, 2021 (6 months ago)        $0.0315770.25%\n",
       " 5    All Time LowMar 13, 2020 (2 years ago)    $0.00021894190.36%\n",
       " 6                                  Holo ROI                 1182%,\n",
       "                     0                    1\n",
       " 0  Circulating Supply  172,895,870,443 HOT\n",
       " 1        Total Supply  177,619,433,541 HOT\n",
       " 2          Max Supply              No Data]"
      ]
     },
     "execution_count": 8,
     "metadata": {},
     "output_type": "execute_result"
    }
   ],
   "source": [
    "df = pd.read_html('http://coinmarketcap.com/currencies/holo/')\n",
    "df"
   ]
  },
  {
   "cell_type": "code",
   "execution_count": null,
   "metadata": {},
   "outputs": [],
   "source": []
  },
  {
   "cell_type": "code",
   "execution_count": 9,
   "metadata": {},
   "outputs": [
    {
     "data": {
      "text/html": [
       "<div>\n",
       "<style scoped>\n",
       "    .dataframe tbody tr th:only-of-type {\n",
       "        vertical-align: middle;\n",
       "    }\n",
       "\n",
       "    .dataframe tbody tr th {\n",
       "        vertical-align: top;\n",
       "    }\n",
       "\n",
       "    .dataframe thead th {\n",
       "        text-align: right;\n",
       "    }\n",
       "</style>\n",
       "<table border=\"1\" class=\"dataframe\">\n",
       "  <thead>\n",
       "    <tr style=\"text-align: right;\">\n",
       "      <th></th>\n",
       "      <th>0</th>\n",
       "    </tr>\n",
       "  </thead>\n",
       "  <tbody>\n",
       "    <tr>\n",
       "      <th>0</th>\n",
       "      <td>0                      1\n",
       "...</td>\n",
       "    </tr>\n",
       "    <tr>\n",
       "      <th>1</th>\n",
       "      <td>0                   ...</td>\n",
       "    </tr>\n",
       "    <tr>\n",
       "      <th>2</th>\n",
       "      <td>0                   ...</td>\n",
       "    </tr>\n",
       "    <tr>\n",
       "      <th>3</th>\n",
       "      <td>0   ...</td>\n",
       "    </tr>\n",
       "    <tr>\n",
       "      <th>4</th>\n",
       "      <td>0                    1\n",
       "0  ...</td>\n",
       "    </tr>\n",
       "  </tbody>\n",
       "</table>\n",
       "</div>"
      ],
      "text/plain": [
       "                                                   0\n",
       "0                       0                      1\n",
       "...\n",
       "1                            0                   ...\n",
       "2                            0                   ...\n",
       "3                                            0   ...\n",
       "4                      0                    1\n",
       "0  ..."
      ]
     },
     "execution_count": 9,
     "metadata": {},
     "output_type": "execute_result"
    }
   ],
   "source": [
    "df = pd.read_html('http://coinmarketcap.com/currencies/holo/')\n",
    "dfV = pd.DataFrame(df)\n",
    "\n",
    "dfV"
   ]
  },
  {
   "cell_type": "code",
   "execution_count": 10,
   "metadata": {},
   "outputs": [
    {
     "data": {
      "text/html": [
       "<div>\n",
       "<style scoped>\n",
       "    .dataframe tbody tr th:only-of-type {\n",
       "        vertical-align: middle;\n",
       "    }\n",
       "\n",
       "    .dataframe tbody tr th {\n",
       "        vertical-align: top;\n",
       "    }\n",
       "\n",
       "    .dataframe thead th {\n",
       "        text-align: right;\n",
       "    }\n",
       "</style>\n",
       "<table border=\"1\" class=\"dataframe\">\n",
       "  <thead>\n",
       "    <tr style=\"text-align: right;\">\n",
       "      <th></th>\n",
       "      <th>0</th>\n",
       "      <th>1</th>\n",
       "    </tr>\n",
       "  </thead>\n",
       "  <tbody>\n",
       "    <tr>\n",
       "      <th>0</th>\n",
       "      <td>Holo Price</td>\n",
       "      <td>$0.009393</td>\n",
       "    </tr>\n",
       "    <tr>\n",
       "      <th>1</th>\n",
       "      <td>Price Change24h</td>\n",
       "      <td>$-0.00038123.90%</td>\n",
       "    </tr>\n",
       "    <tr>\n",
       "      <th>2</th>\n",
       "      <td>24h Low / 24h High</td>\n",
       "      <td>$0.009362 /$0.009847</td>\n",
       "    </tr>\n",
       "    <tr>\n",
       "      <th>3</th>\n",
       "      <td>Trading Volume24h</td>\n",
       "      <td>$210,507,930.1349.23%</td>\n",
       "    </tr>\n",
       "    <tr>\n",
       "      <th>4</th>\n",
       "      <td>Volume / Market Cap</td>\n",
       "      <td>0.1296</td>\n",
       "    </tr>\n",
       "    <tr>\n",
       "      <th>5</th>\n",
       "      <td>Market Dominance</td>\n",
       "      <td>0.07%</td>\n",
       "    </tr>\n",
       "    <tr>\n",
       "      <th>6</th>\n",
       "      <td>Market Rank</td>\n",
       "      <td>#69</td>\n",
       "    </tr>\n",
       "  </tbody>\n",
       "</table>\n",
       "</div>"
      ],
      "text/plain": [
       "                     0                      1\n",
       "0           Holo Price              $0.009393\n",
       "1      Price Change24h       $-0.00038123.90%\n",
       "2   24h Low / 24h High   $0.009362 /$0.009847\n",
       "3    Trading Volume24h  $210,507,930.1349.23%\n",
       "4  Volume / Market Cap                 0.1296\n",
       "5     Market Dominance                  0.07%\n",
       "6          Market Rank                    #69"
      ]
     },
     "execution_count": 10,
     "metadata": {},
     "output_type": "execute_result"
    }
   ],
   "source": [
    "df_hot = dfV.loc[0,0]\n",
    "df_hot"
   ]
  },
  {
   "cell_type": "code",
   "execution_count": null,
   "metadata": {},
   "outputs": [],
   "source": []
  },
  {
   "cell_type": "code",
   "execution_count": null,
   "metadata": {},
   "outputs": [],
   "source": []
  },
  {
   "cell_type": "code",
   "execution_count": null,
   "metadata": {},
   "outputs": [],
   "source": []
  },
  {
   "cell_type": "code",
   "execution_count": 11,
   "metadata": {},
   "outputs": [],
   "source": [
    "hot = df_hot.loc[0]"
   ]
  },
  {
   "cell_type": "code",
   "execution_count": 12,
   "metadata": {},
   "outputs": [
    {
     "data": {
      "text/plain": [
       "0    Holo Price\n",
       "1     $0.009393\n",
       "Name: 0, dtype: object"
      ]
     },
     "execution_count": 12,
     "metadata": {},
     "output_type": "execute_result"
    }
   ],
   "source": [
    "hot"
   ]
  },
  {
   "cell_type": "code",
   "execution_count": null,
   "metadata": {},
   "outputs": [],
   "source": []
  },
  {
   "cell_type": "code",
   "execution_count": 13,
   "metadata": {},
   "outputs": [
    {
     "data": {
      "text/plain": [
       "dtype('O')"
      ]
     },
     "execution_count": 13,
     "metadata": {},
     "output_type": "execute_result"
    }
   ],
   "source": [
    "hot.dtypes"
   ]
  },
  {
   "cell_type": "code",
   "execution_count": null,
   "metadata": {},
   "outputs": [],
   "source": []
  },
  {
   "cell_type": "code",
   "execution_count": null,
   "metadata": {},
   "outputs": [],
   "source": []
  },
  {
   "cell_type": "code",
   "execution_count": 14,
   "metadata": {},
   "outputs": [],
   "source": [
    "import numpy"
   ]
  },
  {
   "cell_type": "code",
   "execution_count": 15,
   "metadata": {},
   "outputs": [
    {
     "data": {
      "text/plain": [
       "'$0.009393'"
      ]
     },
     "execution_count": 15,
     "metadata": {},
     "output_type": "execute_result"
    }
   ],
   "source": [
    "hot = df_hot.loc[0,1]\n",
    "hot\n"
   ]
  },
  {
   "cell_type": "code",
   "execution_count": null,
   "metadata": {},
   "outputs": [],
   "source": []
  },
  {
   "cell_type": "code",
   "execution_count": 21,
   "metadata": {},
   "outputs": [
    {
     "ename": "TypeError",
     "evalue": "'list' object is not callable",
     "output_type": "error",
     "traceback": [
      "\u001b[1;31m---------------------------------------------------------------------------\u001b[0m",
      "\u001b[1;31mTypeError\u001b[0m                                 Traceback (most recent call last)",
      "\u001b[1;32m<ipython-input-21-01e82f808f0e>\u001b[0m in \u001b[0;36m<module>\u001b[1;34m\u001b[0m\n\u001b[1;32m----> 1\u001b[1;33m \u001b[0mdf\u001b[0m\u001b[1;33m(\u001b[0m\u001b[1;34m'hot'\u001b[0m\u001b[1;33m)\u001b[0m\u001b[1;33m.\u001b[0m\u001b[0mastype\u001b[0m\u001b[1;33m(\u001b[0m\u001b[0mstr\u001b[0m\u001b[1;33m)\u001b[0m\u001b[1;33m.\u001b[0m\u001b[0mastype\u001b[0m\u001b[1;33m(\u001b[0m\u001b[0mint\u001b[0m\u001b[1;33m)\u001b[0m\u001b[1;33m\u001b[0m\u001b[1;33m\u001b[0m\u001b[0m\n\u001b[0m",
      "\u001b[1;31mTypeError\u001b[0m: 'list' object is not callable"
     ]
    }
   ],
   "source": [
    "df('hot').astype(str).astype(int)\n"
   ]
  },
  {
   "cell_type": "code",
   "execution_count": null,
   "metadata": {},
   "outputs": [],
   "source": []
  },
  {
   "cell_type": "code",
   "execution_count": null,
   "metadata": {},
   "outputs": [],
   "source": []
  },
  {
   "cell_type": "code",
   "execution_count": null,
   "metadata": {},
   "outputs": [],
   "source": []
  },
  {
   "cell_type": "code",
   "execution_count": null,
   "metadata": {},
   "outputs": [],
   "source": []
  },
  {
   "cell_type": "code",
   "execution_count": null,
   "metadata": {},
   "outputs": [],
   "source": []
  }
 ],
 "metadata": {
  "kernelspec": {
   "display_name": "Python 3",
   "language": "python",
   "name": "python3"
  },
  "language_info": {
   "codemirror_mode": {
    "name": "ipython",
    "version": 3
   },
   "file_extension": ".py",
   "mimetype": "text/x-python",
   "name": "python",
   "nbconvert_exporter": "python",
   "pygments_lexer": "ipython3",
   "version": "3.8.3"
  }
 },
 "nbformat": 4,
 "nbformat_minor": 4
}
